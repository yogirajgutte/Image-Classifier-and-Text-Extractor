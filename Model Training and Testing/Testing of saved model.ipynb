{
 "cells": [
  {
   "cell_type": "markdown",
   "metadata": {},
   "source": [
    "# Import required libraries and modules"
   ]
  },
  {
   "cell_type": "code",
   "execution_count": 1,
   "metadata": {},
   "outputs": [],
   "source": [
    "from tensorflow.keras.preprocessing.image import img_to_array, load_img\n",
    "from tensorflow.keras import models\n",
    "import os\n",
    "import numpy as np\n",
    "import matplotlib.pyplot as plt\n",
    "from natsort import natsorted\n",
    "os.environ['CUDA_VISIBLE_DEVICES'] = '-1'"
   ]
  },
  {
   "cell_type": "markdown",
   "metadata": {},
   "source": [
    "# Load saved model"
   ]
  },
  {
   "cell_type": "code",
   "execution_count": null,
   "metadata": {},
   "outputs": [],
   "source": [
    "model = models.load_model('./MyModel_tf')"
   ]
  },
  {
   "cell_type": "markdown",
   "metadata": {},
   "source": [
    "# Prepare testing data"
   ]
  },
  {
   "cell_type": "code",
   "execution_count": null,
   "metadata": {},
   "outputs": [],
   "source": [
    "images = []\n",
    "img_folder = os.path.join('./Testing')\n",
    "img_files = natsorted(os.listdir(img_folder))\n",
    "img_files = [os.path.join(img_folder, f) for f in img_files]\n",
    "# print(img_files)\n",
    "for img in img_files:\n",
    "    img = load_img(img, target_size=(150, 150))\n",
    "    img = img_to_array(img)\n",
    "    img = np.expand_dims(img, axis=0)\n",
    "    images.append(img)\n",
    "\n",
    "images = np.vstack(images)"
   ]
  },
  {
   "cell_type": "markdown",
   "metadata": {},
   "source": [
    "# Test model with all samples"
   ]
  },
  {
   "cell_type": "code",
   "execution_count": 3,
   "metadata": {
    "scrolled": true
   },
   "outputs": [
    {
     "name": "stdout",
     "output_type": "stream",
     "text": [
      "Testing Accuracy =  57.99999999999999\n"
     ]
    }
   ],
   "source": [
    "\n",
    "\n",
    "class_dic = {0:'Building', 1:'Car', 2:'Dog', 3:'Flower', 4:'Forest',\n",
    "            5:'Person', 6:'Pizza', 7:'Sea', 8:'Ship', 9:'Traffic Sign'}\n",
    "\n",
    "predictions = model.predict(images)\n",
    "\n",
    "pred_list = []\n",
    "ans_list = [\"Building\"]*20 + [\"Car\"]*20 +[\"Dog\"]*20 +[\"Flower\"]*20 +[\"Forest\"]*20+ [\"Person\"]*20 +['Pizza']*20 +[\"Sea\"]*20 +[\"Ship\"]*20 +[\"Traffic Sign\"]*20\n",
    "for prediction in predictions:\n",
    "    pred_list.append(class_dic[np.argmax(prediction)])\n",
    "    \n",
    "\n",
    "count = 0    \n",
    "for i in range(200):\n",
    "    if pred_list[i] == ans_list[i]:\n",
    "        count+=1\n",
    "\n",
    "print(\"Testing Accuracy = \",(count/200)*100)"
   ]
  }
 ],
 "metadata": {
  "kernelspec": {
   "display_name": "Python 3",
   "language": "python",
   "name": "python3"
  },
  "language_info": {
   "codemirror_mode": {
    "name": "ipython",
    "version": 3
   },
   "file_extension": ".py",
   "mimetype": "text/x-python",
   "name": "python",
   "nbconvert_exporter": "python",
   "pygments_lexer": "ipython3",
   "version": "3.8.3"
  }
 },
 "nbformat": 4,
 "nbformat_minor": 4
}
