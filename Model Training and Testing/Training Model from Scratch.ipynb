{
 "cells": [
  {
   "cell_type": "markdown",
   "metadata": {},
   "source": [
    "# Import required modules and libraries"
   ]
  },
  {
   "cell_type": "code",
   "execution_count": 1,
   "metadata": {},
   "outputs": [],
   "source": [
    "from tensorflow.keras.preprocessing.image import ImageDataGenerator\n",
    "from tensorflow.keras.models import Sequential\n",
    "from tensorflow.keras.layers import Conv2D, MaxPooling2D, BatchNormalization\n",
    "from tensorflow.keras.layers import Activation, Dropout, Flatten, Dense\n",
    "import PIL"
   ]
  },
  {
   "cell_type": "markdown",
   "metadata": {},
   "source": [
    "# Define variables"
   ]
  },
  {
   "cell_type": "code",
   "execution_count": 2,
   "metadata": {},
   "outputs": [],
   "source": [
    "img_width, img_height= 150, 150\n",
    "\n",
    "train_data_dir=\"Dataset/train\"\n",
    "validation_data_dir=\"Dataset/validate\"\n",
    "\n",
    "train_samples = 55745\n",
    "validation_samples = 18459\n",
    "\n",
    "#epochs = 10\n",
    "batch_size = 64"
   ]
  },
  {
   "cell_type": "code",
   "execution_count": 3,
   "metadata": {},
   "outputs": [],
   "source": [
    "input_shape = (img_width, img_height, 3)"
   ]
  },
  {
   "cell_type": "markdown",
   "metadata": {},
   "source": [
    "# Prepare Dataset for processing"
   ]
  },
  {
   "cell_type": "code",
   "execution_count": 4,
   "metadata": {},
   "outputs": [
    {
     "name": "stdout",
     "output_type": "stream",
     "text": [
      "Found 55745 images belonging to 10 classes.\n"
     ]
    }
   ],
   "source": [
    "train_datagen = ImageDataGenerator(\n",
    "    rescale=1./255,\n",
    "    shear_range = 0.2,\n",
    "    zoom_range=0.2,\n",
    "    horizontal_flip =True)\n",
    "\n",
    "train_generator = train_datagen.flow_from_directory(\n",
    "    train_data_dir,\n",
    "    target_size=(img_width,img_height),\n",
    "    batch_size = batch_size,\n",
    "    class_mode='categorical')"
   ]
  },
  {
   "cell_type": "code",
   "execution_count": 5,
   "metadata": {},
   "outputs": [
    {
     "name": "stdout",
     "output_type": "stream",
     "text": [
      "Found 18459 images belonging to 10 classes.\n"
     ]
    }
   ],
   "source": [
    "val_datagen = ImageDataGenerator(rescale=1./255)\n",
    "\n",
    "val_generator = val_datagen.flow_from_directory(\n",
    "    validation_data_dir,\n",
    "    target_size=(img_width, img_height),\n",
    "    batch_size = batch_size,\n",
    "    class_mode='categorical')"
   ]
  },
  {
   "cell_type": "markdown",
   "metadata": {},
   "source": [
    "# Build Model"
   ]
  },
  {
   "cell_type": "code",
   "execution_count": 6,
   "metadata": {},
   "outputs": [],
   "source": [
    "model = Sequential()\n",
    "\n",
    "model.add(Conv2D(32,(3,3), activation='relu', input_shape=input_shape))\n",
    "model.add(BatchNormalization())\n",
    "model.add(MaxPooling2D(pool_size=(2,2)))\n",
    "model.add(Dropout(0.25))\n",
    "\n",
    "model.add(Conv2D(64, (3,3), activation='relu'))\n",
    "model.add(BatchNormalization())\n",
    "model.add(MaxPooling2D(pool_size=(2,2)))\n",
    "model.add(Dropout(0.25))\n",
    "\n",
    "model.add(Conv2D(128,(3,3), activation='relu'))\n",
    "model.add(BatchNormalization())\n",
    "model.add(MaxPooling2D(pool_size=(2,2)))\n",
    "model.add(Dropout(0.25))\n",
    "\n",
    "model.add(Flatten())\n",
    "\n",
    "model.add(Dense(512, activation='relu'))\n",
    "model.add(BatchNormalization())\n",
    "model.add(Dropout(0.5))\n",
    "\n",
    "model.add(Dense(10, activation='softmax'))"
   ]
  },
  {
   "cell_type": "code",
   "execution_count": 7,
   "metadata": {},
   "outputs": [
    {
     "name": "stdout",
     "output_type": "stream",
     "text": [
      "Model: \"sequential\"\n",
      "_________________________________________________________________\n",
      "Layer (type)                 Output Shape              Param #   \n",
      "=================================================================\n",
      "conv2d (Conv2D)              (None, 148, 148, 32)      896       \n",
      "_________________________________________________________________\n",
      "batch_normalization (BatchNo (None, 148, 148, 32)      128       \n",
      "_________________________________________________________________\n",
      "max_pooling2d (MaxPooling2D) (None, 74, 74, 32)        0         \n",
      "_________________________________________________________________\n",
      "dropout (Dropout)            (None, 74, 74, 32)        0         \n",
      "_________________________________________________________________\n",
      "conv2d_1 (Conv2D)            (None, 72, 72, 64)        18496     \n",
      "_________________________________________________________________\n",
      "batch_normalization_1 (Batch (None, 72, 72, 64)        256       \n",
      "_________________________________________________________________\n",
      "max_pooling2d_1 (MaxPooling2 (None, 36, 36, 64)        0         \n",
      "_________________________________________________________________\n",
      "dropout_1 (Dropout)          (None, 36, 36, 64)        0         \n",
      "_________________________________________________________________\n",
      "conv2d_2 (Conv2D)            (None, 34, 34, 128)       73856     \n",
      "_________________________________________________________________\n",
      "batch_normalization_2 (Batch (None, 34, 34, 128)       512       \n",
      "_________________________________________________________________\n",
      "max_pooling2d_2 (MaxPooling2 (None, 17, 17, 128)       0         \n",
      "_________________________________________________________________\n",
      "dropout_2 (Dropout)          (None, 17, 17, 128)       0         \n",
      "_________________________________________________________________\n",
      "flatten (Flatten)            (None, 36992)             0         \n",
      "_________________________________________________________________\n",
      "dense (Dense)                (None, 512)               18940416  \n",
      "_________________________________________________________________\n",
      "batch_normalization_3 (Batch (None, 512)               2048      \n",
      "_________________________________________________________________\n",
      "dropout_3 (Dropout)          (None, 512)               0         \n",
      "_________________________________________________________________\n",
      "dense_1 (Dense)              (None, 10)                5130      \n",
      "=================================================================\n",
      "Total params: 19,041,738\n",
      "Trainable params: 19,040,266\n",
      "Non-trainable params: 1,472\n",
      "_________________________________________________________________\n"
     ]
    }
   ],
   "source": [
    "model.summary()"
   ]
  },
  {
   "cell_type": "code",
   "execution_count": 8,
   "metadata": {},
   "outputs": [],
   "source": [
    "model.compile(loss='categorical_crossentropy',\n",
    "             optimizer='rmsprop',\n",
    "             metrics=['accuracy'])\n"
   ]
  },
  {
   "cell_type": "markdown",
   "metadata": {},
   "source": [
    "# Train Model"
   ]
  },
  {
   "cell_type": "code",
   "execution_count": 9,
   "metadata": {
    "scrolled": true
   },
   "outputs": [
    {
     "name": "stdout",
     "output_type": "stream",
     "text": [
      "Epoch 1/15\n",
      "871/871 [==============================] - 3217s 4s/step - loss: 0.7917 - accuracy: 0.7718 - val_loss: 1.8398 - val_accuracy: 0.5716\n",
      "Epoch 2/15\n",
      "871/871 [==============================] - 2269s 3s/step - loss: 0.2344 - accuracy: 0.9259 - val_loss: 0.6527 - val_accuracy: 0.8218\n",
      "Epoch 3/15\n",
      "871/871 [==============================] - 3286s 4s/step - loss: 0.1673 - accuracy: 0.9451 - val_loss: 0.6010 - val_accuracy: 0.8579\n",
      "Epoch 4/15\n",
      "871/871 [==============================] - 2107s 2s/step - loss: 0.1450 - accuracy: 0.9537 - val_loss: 0.4188 - val_accuracy: 0.9130\n",
      "Epoch 5/15\n",
      "871/871 [==============================] - 2804s 3s/step - loss: 0.1187 - accuracy: 0.9620 - val_loss: 0.4238 - val_accuracy: 0.9025\n",
      "Epoch 6/15\n",
      "871/871 [==============================] - 2208s 3s/step - loss: 0.1091 - accuracy: 0.9657 - val_loss: 0.2579 - val_accuracy: 0.9269\n",
      "Epoch 7/15\n",
      "871/871 [==============================] - 2849s 3s/step - loss: 0.0999 - accuracy: 0.9676 - val_loss: 0.1872 - val_accuracy: 0.9467\n",
      "Epoch 8/15\n",
      "871/871 [==============================] - 2317s 3s/step - loss: 0.0942 - accuracy: 0.9708 - val_loss: 0.2214 - val_accuracy: 0.9442\n",
      "Epoch 9/15\n",
      "871/871 [==============================] - 2680s 3s/step - loss: 0.0909 - accuracy: 0.9718 - val_loss: 0.9435 - val_accuracy: 0.7786\n",
      "Epoch 10/15\n",
      "871/871 [==============================] - 2532s 3s/step - loss: 0.0824 - accuracy: 0.9742 - val_loss: 0.2270 - val_accuracy: 0.9465\n",
      "Epoch 11/15\n",
      "871/871 [==============================] - 2595s 3s/step - loss: 0.0799 - accuracy: 0.9748 - val_loss: 0.2483 - val_accuracy: 0.9288\n",
      "Epoch 12/15\n",
      "871/871 [==============================] - 2338s 3s/step - loss: 0.0800 - accuracy: 0.9747 - val_loss: 0.3757 - val_accuracy: 0.8951\n",
      "Epoch 13/15\n",
      "871/871 [==============================] - 2636s 3s/step - loss: 0.0754 - accuracy: 0.9768 - val_loss: 0.6461 - val_accuracy: 0.8681\n",
      "Epoch 14/15\n",
      "871/871 [==============================] - 2334s 3s/step - loss: 0.0730 - accuracy: 0.9775 - val_loss: 0.3212 - val_accuracy: 0.9199\n",
      "Epoch 15/15\n",
      "871/871 [==============================] - 2592s 3s/step - loss: 0.0660 - accuracy: 0.9798 - val_loss: 0.2386 - val_accuracy: 0.9454\n"
     ]
    },
    {
     "data": {
      "text/plain": [
       "<tensorflow.python.keras.callbacks.History at 0x199be4c69a0>"
      ]
     },
     "execution_count": 9,
     "metadata": {},
     "output_type": "execute_result"
    }
   ],
   "source": [
    "model.fit(train_generator,\n",
    "          steps_per_epoch=train_samples//batch_size,\n",
    "          epochs=15,\n",
    "          validation_data=val_generator,\n",
    "          validation_steps=validation_samples//batch_size)"
   ]
  },
  {
   "cell_type": "code",
   "execution_count": 8,
   "metadata": {},
   "outputs": [
    {
     "name": "stdout",
     "output_type": "stream",
     "text": [
      "871/871 [==============================] - 3081s 3s/step - loss: 0.0680 - accuracy: 0.9787 - val_loss: 0.2166 - val_accuracy: 0.9469\n"
     ]
    },
    {
     "data": {
      "text/plain": [
       "<tensorflow.python.keras.callbacks.History at 0x26f5e523ee0>"
      ]
     },
     "execution_count": 8,
     "metadata": {},
     "output_type": "execute_result"
    }
   ],
   "source": [
    "model.fit(train_generator,\n",
    "          steps_per_epoch=train_samples//batch_size,\n",
    "          epochs=1,\n",
    "          validation_data=val_generator,\n",
    "          validation_steps=validation_samples//batch_size)"
   ]
  },
  {
   "cell_type": "markdown",
   "metadata": {},
   "source": [
    "# Save Model"
   ]
  },
  {
   "cell_type": "code",
   "execution_count": 10,
   "metadata": {
    "scrolled": true
   },
   "outputs": [
    {
     "name": "stdout",
     "output_type": "stream",
     "text": [
      "INFO:tensorflow:Assets written to: ./MyModel_tf\\assets\n"
     ]
    }
   ],
   "source": [
    "model.save('./MyModel_tf',save_format='tf')"
   ]
  }
 ],
 "metadata": {
  "kernelspec": {
   "display_name": "Python 3",
   "language": "python",
   "name": "python3"
  },
  "language_info": {
   "codemirror_mode": {
    "name": "ipython",
    "version": 3
   },
   "file_extension": ".py",
   "mimetype": "text/x-python",
   "name": "python",
   "nbconvert_exporter": "python",
   "pygments_lexer": "ipython3",
   "version": "3.8.3"
  }
 },
 "nbformat": 4,
 "nbformat_minor": 4
}
